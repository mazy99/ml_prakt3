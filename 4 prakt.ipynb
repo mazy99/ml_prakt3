{
 "cells": [
  {
   "cell_type": "markdown",
   "id": "a4835a4e-dafb-4569-a741-187666f1243b",
   "metadata": {},
   "source": [
    "# 1. Создание Series из списка\n",
    "## Описание задания:\n",
    "Создайте Series из списка чисел [5, 15, 25, 35, 45] с индексами ['a', 'b', 'c', 'd', 'e'] . Выведите его на экран и определите его тип данных"
   ]
  },
  {
   "cell_type": "code",
   "execution_count": 2,
   "id": "51527e38-b091-41fe-bc0a-c70154fc0366",
   "metadata": {},
   "outputs": [
    {
     "name": "stdout",
     "output_type": "stream",
     "text": [
      "a     5\n",
      "b    15\n",
      "c    25\n",
      "d    35\n",
      "e    45\n",
      "dtype: int32\n",
      "Тип данных Series: int32\n"
     ]
    }
   ],
   "source": [
    "import pandas as pd\n",
    "import numpy as np\n",
    "ndarr = np.array([5,15,25,35,45])\n",
    "indexes = ['a','b','c','d','e']\n",
    "s3 = pd.Series(ndarr,indexes,dtype=int)\n",
    "print(s3)\n",
    "print(f'Тип данных Series: {s3.dtype}')"
   ]
  },
  {
   "cell_type": "markdown",
   "id": "f172c819-786e-46ac-9740-098d73b8ebbe",
   "metadata": {},
   "source": [
    "# 2. Получение элемента Series \n",
    "## Описание задания:\n",
    "Дан Series с индексами ['A', 'B', 'C', 'D', 'E'] и значениями [12, 24, 36,48, 60] . Используйте .loc[] для получения элемента с индексом 'C' и .iloc[] для получения третьего элемента"
   ]
  },
  {
   "cell_type": "code",
   "execution_count": 25,
   "id": "3a6be19d-29f2-475e-8541-90c794a01042",
   "metadata": {},
   "outputs": [
    {
     "name": "stdout",
     "output_type": "stream",
     "text": [
      "Элеменет с меткой 'С': 36\n",
      "Третий элемент: 36\n"
     ]
    }
   ],
   "source": [
    "num_arr = np.array([12, 24, 36,48, 60])\n",
    "index_arr = ['A', 'B', 'C', 'D', 'E'] \n",
    "series = pd.Series(num_arr,index_arr,dtype=int)\n",
    "print(f\"Элеменет с меткой 'С': {series.loc['C']}\")\n",
    "print(f\"Третий элемент: {series.iloc[2]}\")"
   ]
  },
  {
   "cell_type": "markdown",
   "id": "a798bdf4-c579-499c-9460-4233d0a6f6c0",
   "metadata": {},
   "source": [
    "# 3. Фильтрация данных с помощью логической индексации\n",
    "## Описание задания:\n",
    "Создайте Series из массива NumPy np.array([4, 9, 16, 25, 36, 49, 64]) .Выберите только те элементы, которые больше 20, и выведите результат."
   ]
  },
  {
   "cell_type": "code",
   "execution_count": 39,
   "id": "6c6d4e2b-3ecc-4ea3-b1e0-f2576c098062",
   "metadata": {},
   "outputs": [
    {
     "name": "stdout",
     "output_type": "stream",
     "text": [
      "Элементы ряда больше 20:\n",
      "3    25\n",
      "4    36\n",
      "5    49\n",
      "6    64\n",
      "dtype: int32\n"
     ]
    }
   ],
   "source": [
    "num_arr = np.array([4, 9, 16, 25, 36, 49, 64])\n",
    "series = pd.Series(num_arr)\n",
    "print(f\"Элементы ряда больше 20:\\n{series[series > 20]}\")"
   ]
  },
  {
   "cell_type": "markdown",
   "id": "68a92d21-732d-4d0a-bcb8-fe8cab5ce04b",
   "metadata": {},
   "source": [
    "# 4. Просмотр первых и последних элементов\n",
    "## Описание задания:\n",
    "Создайте Series , содержащий 50 случайных целых чисел от 1 до 100\n",
    "(используйте np.random.randint ). Выведите первые 7 и последние 5 элементов с помощью .head() и .tail() ."
   ]
  },
  {
   "cell_type": "code",
   "execution_count": 38,
   "id": "8fa8a4ec-efe6-4f01-998b-d47aeb561a13",
   "metadata": {},
   "outputs": [
    {
     "name": "stdout",
     "output_type": "stream",
     "text": [
      "Первые 7 элементов:\n",
      "0    80\n",
      "1    69\n",
      "2    32\n",
      "3    44\n",
      "4    71\n",
      "5    83\n",
      "6    19\n",
      "dtype: int32\n",
      "Послдение 5 элементов:\n",
      "45    85\n",
      "46    40\n",
      "47    75\n",
      "48    65\n",
      "49    72\n",
      "dtype: int32\n"
     ]
    }
   ],
   "source": [
    "series = pd.Series(np.random.randint(1,100,50))\n",
    "print(f\"Первые 7 элементов:\\n{series.head(7)}\")\n",
    "print(f\"Послдение 5 элементов:\\n{series.tail(5)}\")"
   ]
  },
  {
   "cell_type": "markdown",
   "id": "490ff0b2-e179-457a-8bb4-9ca187cd036b",
   "metadata": {},
   "source": [
    "# 5. Просмотр первых и последних элементов\n",
    "## Описание задания:\n",
    "Создайте Series из списка ['cat', 'dog', 'rabbit', 'parrot', 'fish'] .\n",
    "Определите тип данных с помощью .dtype , затем преобразуйте его в category с помощью .astype() "
   ]
  },
  {
   "cell_type": "code",
   "execution_count": 40,
   "id": "3d18b76c-ecec-4314-8d3c-0f8b8d1ca1b8",
   "metadata": {},
   "outputs": [
    {
     "name": "stdout",
     "output_type": "stream",
     "text": [
      "Тип данных ряда series: object\n",
      "Привел к новому типу данных: category\n"
     ]
    }
   ],
   "source": [
    "series = pd.Series(['cat', 'dog', 'rabbit', 'parrot', 'fish'])\n",
    "print(f'Тип данных ряда series: {series.dtype}')\n",
    "series=series.astype('category')\n",
    "print(f'Привел к новому типу данных: {series.dtype}')"
   ]
  },
  {
   "cell_type": "markdown",
   "id": "db6f0720-ddc1-436e-ba8d-f7d7e8bcbaee",
   "metadata": {},
   "source": [
    "# 6. Проверка пропущенных значений\n",
    "## Описание задания:\n",
    "Создайте Series с данными [1.2, np.nan, 3.4, np.nan, 5.6, 6.8] . Напишите код, который проверяет, есть ли в Series пропущенные значения ( NaN ), и выведите индексы таких элементов."
   ]
  },
  {
   "cell_type": "code",
   "execution_count": 18,
   "id": "227bbe9f-359e-4ed2-a76a-0115083cd4fb",
   "metadata": {},
   "outputs": [
    {
     "name": "stdout",
     "output_type": "stream",
     "text": [
      "Проверка на NaN:\n",
      "0    False\n",
      "1     True\n",
      "2    False\n",
      "3     True\n",
      "4    False\n",
      "5    False\n",
      "dtype: bool\n",
      "Индексы NaN элементов:\n",
      "Index([1, 3], dtype='int64')\n"
     ]
    }
   ],
   "source": [
    "series= pd.Series([1.2, np.nan, 3.4, np.nan, 5.6, 6.8])\n",
    "print(f'Проверка на NaN:\\n{series.isna()}')\n",
    "nan_index = series.index[series.isna()]\n",
    "print(f'Индексы NaN элементов:\\n{nan_index}')"
   ]
  },
  {
   "cell_type": "markdown",
   "id": "af6db36a-ee75-4cd8-9cce-6679f4d2de9f",
   "metadata": {},
   "source": [
    "# 7. Заполнение пропущенных значений\n",
    "## Описание задания:\n",
    "Используйте Series из предыдущего задания и замените все NaN на среднее значение всех непустых элементов. Выведите результат."
   ]
  },
  {
   "cell_type": "code",
   "execution_count": 41,
   "id": "1222b8f3-6263-4baa-a81d-bb0efcad6991",
   "metadata": {},
   "outputs": [
    {
     "name": "stdout",
     "output_type": "stream",
     "text": [
      "Новый ряд:\n",
      "0    1.20\n",
      "1    4.25\n",
      "2    3.40\n",
      "3    4.25\n",
      "4    5.60\n",
      "5    6.80\n",
      "dtype: float64\n"
     ]
    }
   ],
   "source": [
    "series= pd.Series([1.2, np.nan, 3.4, np.nan, 5.6, 6.8])\n",
    "series=series.fillna(series.mean())\n",
    "print(f'Новый ряд:\\n{series}')"
   ]
  },
  {
   "cell_type": "markdown",
   "id": "9d4bf587-d000-453f-b3da-ab3c5d7004be",
   "metadata": {},
   "source": [
    "# 8. Арифметические операции с series\n",
    "## Описание задания:\n",
    "Создайте два Series :\n",
    "- s1 = pd.Series([10, 20, 30, 40], index=['a', 'b', 'c', 'd'])\n",
    "- s2 = pd.Series([5, 15, 25, 35], index=['b', 'c', 'd', 'e'])\n",
    "  \n",
    "Выполните сложение s1 + s2 . Объясните, почему в результате появляются\n",
    "NaN , и замените их на 0 "
   ]
  },
  {
   "cell_type": "code",
   "execution_count": 42,
   "id": "27dd7c00-4a10-483b-958d-b548a5a54c97",
   "metadata": {},
   "outputs": [
    {
     "name": "stdout",
     "output_type": "stream",
     "text": [
      "Ряд с NaN элементами:\n",
      "a     NaN\n",
      "b    25.0\n",
      "c    45.0\n",
      "d    65.0\n",
      "e     NaN\n",
      "dtype: float64\n",
      "Ряд с NaN элементами, замененными 0:\n",
      "a     0.0\n",
      "b    25.0\n",
      "c    45.0\n",
      "d    65.0\n",
      "e     0.0\n",
      "dtype: float64\n"
     ]
    }
   ],
   "source": [
    "s1 = pd.Series([10, 20, 30, 40], index=['a', 'b', 'c', 'd'])\n",
    "s2 = pd.Series([5, 15, 25, 35], index=['b', 'c', 'd', 'e'])\n",
    "result = s1+s2\n",
    "print(f'Ряд с NaN элементами:\\n{result}')\n",
    "#в РЕЗУЛЬТАТЕ СЛОЖЕНИЯ ПОЯВЯТСЯ  NaN ЭЛЕМЕНТЫ, Т.К ИНЕДКСЫ МАССИВОВ НЕ СОВПАДАЮТ ДРУГ С ДРУГОМ, СЛОЖАТСЯ ТОЛЬКО ЭЛЕМЕНТЫ С ОБЩИМИ ИНДЕКСАМИ\n",
    "result=result.fillna(0)\n",
    "print(f'Ряд с NaN элементами, замененными 0:\\n{result}')"
   ]
  },
  {
   "cell_type": "markdown",
   "id": "d2fa1463-fca4-4586-a5f9-607a16436e17",
   "metadata": {},
   "source": [
    "# 9. Применение функции к series\n",
    "## Описание задания:\n",
    "Создайте Series из чисел [2, 4, 6, 8, 10] . Напишите код, который применяет к каждому элементу функцию вычисления квадратного корня с помощью .apply(np.sqrt) ."
   ]
  },
  {
   "cell_type": "code",
   "execution_count": 38,
   "id": "ee834553-60db-425a-a1c0-bbe938fc62f8",
   "metadata": {},
   "outputs": [
    {
     "name": "stdout",
     "output_type": "stream",
     "text": [
      "Применение функции к series:\n",
      "0    1.414214\n",
      "1    2.000000\n",
      "2    2.449490\n",
      "3    2.828427\n",
      "4    3.162278\n",
      "dtype: float64\n"
     ]
    }
   ],
   "source": [
    "series = pd.Series([2, 4, 6, 8, 10])\n",
    "new_series = series.apply(lambda x: np.sqrt(x))\n",
    "print(f'Применение функции к series:\\n{new_series}')"
   ]
  },
  {
   "cell_type": "markdown",
   "id": "eb4571b1-12b3-48b4-85a4-04e31bc38bc1",
   "metadata": {},
   "source": [
    "# 10. Основные статистические методы\n",
    "## Описание задания:\n",
    "Создайте Series из 20 случайных чисел от 50 до 150 (используйте np.random.randint ). Найдите сумму, среднее, минимальное и максимальное значение. Выведите также стандартное отклонение."
   ]
  },
  {
   "cell_type": "code",
   "execution_count": 53,
   "id": "39c32c0d-1fbe-4878-a184-df264c0bd4d7",
   "metadata": {},
   "outputs": [
    {
     "name": "stdout",
     "output_type": "stream",
     "text": [
      "Сумма ряда: 1914.9962640189926\n",
      "Среднее ряда: 95.74981320094963\n",
      "Максимальное значение: 141.7167860115191\n",
      "Минимальноее значение: 51.57295673824039\n",
      "Стандартное отклонение: 26.411980266261153\n"
     ]
    }
   ],
   "source": [
    "series = pd.Series(np.random.uniform(50,150,size=20))\n",
    "sum_ser = series.sum()\n",
    "mean_ser = series.mean()\n",
    "min_ser = series.min()\n",
    "max_ser = series.max()\n",
    "std_ser = series.std()\n",
    "print(f'Сумма ряда: {sum_ser}')\n",
    "print(f'Среднее ряда: {mean_ser}')\n",
    "print(f'Максимальное значение: {max_ser}')\n",
    "print(f'Минимальноее значение: {min_ser}')\n",
    "print(f'Стандартное отклонение: {std_ser}')"
   ]
  },
  {
   "cell_type": "markdown",
   "id": "d1f63080-9aaf-46af-9cf0-965cc47fe8ba",
   "metadata": {},
   "source": [
    "# 11. Работа с временными рядами\n",
    "## Описание задания:\n",
    "Создайте Series , где индексами будут даты с 1 по 10 марта 2024 года ( pd.date_range(start='2024-03-01', periods=10, freq='D') ), а значениями – случайные числа от 10 до 100. Выберите данные за 5–8 марта."
   ]
  },
  {
   "cell_type": "code",
   "execution_count": 63,
   "id": "e35444d8-649b-4f38-9923-f2e6651b2eb4",
   "metadata": {},
   "outputs": [
    {
     "name": "stdout",
     "output_type": "stream",
     "text": [
      "Данные за 5-8 марта:\n",
      "2024-03-05    88.167756\n",
      "2024-03-06    25.974880\n",
      "2024-03-07    95.141806\n",
      "2024-03-08    82.905370\n",
      "Freq: D, dtype: float64\n"
     ]
    }
   ],
   "source": [
    "series = pd.Series(np.random.uniform(10,100,size=10),index=pd.date_range(start='2024-03-01', periods=10, freq='D'))\n",
    "print(f'Данные за 5-8 марта:\\n{series.loc['2024-03-05':'2024-03-08']}')"
   ]
  },
  {
   "cell_type": "markdown",
   "id": "d03e1f97-9ac6-42a5-93b4-aa2d6cc8fb09",
   "metadata": {},
   "source": [
    "# 12. Работа с временными рядами\n",
    "## Описание задания:\n",
    "Создайте Series с индексами ['A', 'B', 'A', 'C', 'D', 'B'] и значениями[10, 20, 30, 40, 50, 60] . Проверьте, являются ли индексы уникальными. Если нет, сгруппируйте повторяющиеся индексы и сложите их значения."
   ]
  },
  {
   "cell_type": "code",
   "execution_count": 68,
   "id": "e86dbc98-00a2-4750-b2db-17776192bd0d",
   "metadata": {},
   "outputs": [
    {
     "name": "stdout",
     "output_type": "stream",
     "text": [
      "Уникальны ли индексы? False\n",
      "Series после суммирования:\n",
      "A    40\n",
      "B    80\n",
      "C    40\n",
      "D    50\n",
      "dtype: int64\n"
     ]
    }
   ],
   "source": [
    "series = pd.Series([10, 20, 30, 40, 50, 60], index=['A', 'B', 'A', 'C', 'D', 'B'])\n",
    "print(\"Уникальны ли индексы?\", series.index.is_unique)\n",
    "if not series.index.is_unique:\n",
    "    series = series.groupby(level=0).sum()\n",
    "print(f\"Series после суммирования:\\n{series}\")"
   ]
  },
  {
   "cell_type": "markdown",
   "id": "7ce57b04-e675-43a4-af58-853bd1758cc9",
   "metadata": {},
   "source": [
    "# 13. Преобразование строковых дат в DatetimeIndex\n",
    "## Описание задания:\n",
    "Создайте Series , где индексами будут строки ['2024-03-10', '2024-03-11','2024-03-12'] , а значениями [100, 200, 300] . Преобразуйте индексы в DatetimeIndex и выведите тип данных индекса.\n"
   ]
  },
  {
   "cell_type": "code",
   "execution_count": 71,
   "id": "208344e8-1055-4f86-af80-aebc4d5bc610",
   "metadata": {},
   "outputs": [
    {
     "name": "stdout",
     "output_type": "stream",
     "text": [
      "2024-03-10    100\n",
      "2024-03-11    200\n",
      "2024-03-12    300\n",
      "dtype: int64\n",
      "Тип данных индекса: datetime64[ns]\n"
     ]
    }
   ],
   "source": [
    "series = pd.Series([100, 200, 300],index=['2024-03-10', '2024-03-11','2024-03-12'])\n",
    "print(series)\n",
    "series.index = pd.to_datetime(series.index)\n",
    "print(f'Тип данных индекса: {series.index.dtype}')"
   ]
  },
  {
   "cell_type": "markdown",
   "id": "c7adbd9a-82d7-4bb3-a528-2c317dd882e9",
   "metadata": {},
   "source": [
    "# 14. Чтение данных из CSV-файла\n",
    "## Описание задания:\n",
    "Создайте CSV-файл data.csv со следующими данными:\n",
    "\n",
    "Дата,Цена\n",
    "1. 2024-03-01,100\n",
    "2. 2024-03-02,110\n",
    "3. 2024-03-03,105\n",
    "4. 2024-03-04,120\n",
    "5. 2024-03-05,115\n",
    "\n",
    "Прочитайте файл и создайте Series , используя \"Дата\" в качестве индекса."
   ]
  },
  {
   "cell_type": "code",
   "execution_count": 86,
   "id": "a277f19f-6745-406a-ac92-fad56ea53c49",
   "metadata": {},
   "outputs": [
    {
     "name": "stdout",
     "output_type": "stream",
     "text": [
      "Дата\n",
      "2024-03-01    100\n",
      "2024-03-02    110\n",
      "2024-03-03    105\n",
      "2024-03-04    120\n",
      "2024-03-05    115\n",
      "dtype: int64\n",
      "CSV файл 'data.csv' был создан.\n"
     ]
    }
   ],
   "source": [
    "data = {\n",
    "    'Дата': ['2024-03-01', '2024-03-02', '2024-03-03', '2024-03-04', '2024-03-05'],\n",
    "    'Цена': [100, 110, 105, 120, 115]\n",
    "}\n",
    "df = pd.DataFrame(data)\n",
    "df.to_csv('data.csv', index=False)\n",
    "df = pd.read_csv('data.csv', parse_dates=['Дата'])\n",
    "series = pd.Series(df['Цена'].values, index=df['Дата'])\n",
    "print(series)\n",
    "print(\"CSV файл 'data.csv' был создан.\")"
   ]
  },
  {
   "cell_type": "markdown",
   "id": "f03ab7ba-a49a-4327-b177-fb467e597e06",
   "metadata": {},
   "source": [
    "# 14. Построение графиков на основе series\n",
    "## Описание задания:\n",
    "Создайте Series , где индексами будут даты с 1 по 30 марта 2024 года, а значениями – случайные числа от 50 до 150. Постройте график значений с помощью matplotlib . Добавьте заголовок, подписи осей и сетку."
   ]
  },
  {
   "cell_type": "code",
   "execution_count": 80,
   "id": "e2bc213b-f89b-45e8-9052-11a3cb4b471e",
   "metadata": {},
   "outputs": [
    {
     "data": {
      "image/png": "[encoded data removed]",
      "text/plain": [
       "<Figure size 640x480 with 1 Axes>"
      ]
     },
     "metadata": {},
     "output_type": "display_data"
    },
    {
     "name": "stdout",
     "output_type": "stream",
     "text": [
      "2024-03-01    116.235151\n",
      "2024-03-02     50.771027\n",
      "2024-03-03    112.827149\n",
      "2024-03-04    101.611313\n",
      "2024-03-05     74.639831\n",
      "2024-03-06     93.576786\n",
      "2024-03-07     59.974305\n",
      "2024-03-08    115.489346\n",
      "2024-03-09    126.584135\n",
      "2024-03-10    126.265700\n",
      "2024-03-11     52.272376\n",
      "2024-03-12     51.435056\n",
      "2024-03-13     73.544088\n",
      "2024-03-14    101.650244\n",
      "2024-03-15    136.446790\n",
      "2024-03-16     61.076259\n",
      "2024-03-17    107.703456\n",
      "2024-03-18    115.770140\n",
      "2024-03-19    134.732632\n",
      "2024-03-20    105.714312\n",
      "2024-03-21    142.586876\n",
      "2024-03-22    106.146108\n",
      "2024-03-23    143.427268\n",
      "2024-03-24     55.684649\n",
      "2024-03-25    133.832253\n",
      "2024-03-26    148.124501\n",
      "2024-03-27    118.645029\n",
      "2024-03-28     81.464217\n",
      "2024-03-29    139.215528\n",
      "2024-03-30     85.237789\n",
      "Freq: D, dtype: float64\n"
     ]
    }
   ],
   "source": [
    "import matplotlib.pyplot as plt\n",
    "series = pd.Series(np.random.uniform(50,150,size=30),index=pd.date_range(start='2024-03-01', periods=30, freq='D'))\n",
    "series.plot(kind='bar')\n",
    "plt.title('Пример графика для Series')  \n",
    "plt.xlabel('Индекс')  \n",
    "plt.ylabel('Значения')\n",
    "plt.grid(True)\n",
    "plt.show()  \n",
    "print(series)"
   ]
  },
  {
   "cell_type": "markdown",
   "id": "79840e9f-a851-42ea-9110-308dbd47e70d",
   "metadata": {},
   "source": [
    "# Индивидуальное задание"
   ]
  },
  {
   "cell_type": "markdown",
   "id": "91477623-78d1-408c-8e83-3aa5b058b406",
   "metadata": {},
   "source": [
    "# 4. Финансовый анализ курс валют\n",
    "## Описание задания:\n",
    "Создайте CSV-файл exchange_rate.csv со следующими данными:\n",
    "\n",
    "Дата,Курс USD/RUB\n",
    "\n",
    "1. 2024-06-01,80.5\n",
    "2. 2024-06-02,81.2\n",
    "3. 2024-06-03,79.8\n",
    "4. 2024-06-04,82.0\n",
    "5. 2024-06-05,80.9\n",
    "   \n",
    "Прочитайте данные, установите DatetimeIndex , вычислите разницу курса между соседними днями и отобразите график курса с вертикальными линиями изменений."
   ]
  },
  {
   "cell_type": "code",
   "execution_count": 87,
   "id": "2dc63589-a771-45f9-afca-03b1482f4b81",
   "metadata": {},
   "outputs": [
    {
     "name": "stdout",
     "output_type": "stream",
     "text": [
      "CSV файл 'exchange_rate.csv' был создан.\n"
     ]
    },
    {
     "data": {
      "image/png": "[encoded data removed]",
      "text/plain": [
       "<Figure size 1000x600 with 1 Axes>"
      ]
     },
     "metadata": {},
     "output_type": "display_data"
    }
   ],
   "source": [
    "import pandas as pd\n",
    "\n",
    "data = {\n",
    "    'Дата': ['2024-06-01', '2024-06-02', '2024-06-03', '2024-06-04', '2024-06-05'],\n",
    "    'Курс USD/RUB': [80.5, 81.2, 79.8, 82.0, 80.9]\n",
    "}\n",
    "df = pd.DataFrame(data)\n",
    "df.to_csv('exchange_rate.csv', index=False)\n",
    "print(\"CSV файл 'exchange_rate.csv' был создан.\")\n",
    "df = pd.read_csv('exchange_rate.csv', parse_dates=['Дата'])\n",
    "df.set_index('Дата', inplace=True)\n",
    "df['Разница'] = df['Курс USD/RUB'].diff()\n",
    "plt.figure(figsize=(10, 6))\n",
    "plt.plot(df.index, df['Курс USD/RUB'], marker='o', label='Курс USD/RUB')\n",
    "plt.vlines(df.index[df['Разница'].notna()], ymin=0, ymax=df['Курс USD/RUB'].max(), color='r', linestyle='--', label='Изменения курса')\n",
    "plt.title('График курса USD/RUB с вертикальными линиями изменений')\n",
    "plt.xlabel('Дата')\n",
    "plt.ylabel('Курс USD/RUB')\n",
    "plt.legend()\n",
    "plt.grid(True)\n",
    "plt.xticks(rotation=45)\n",
    "plt.tight_layout()"
   ]
  },
  {
   "cell_type": "code",
   "execution_count": null,
   "id": "665c9589-1b55-4561-b64e-5c63fbe8191f",
   "metadata": {},
   "outputs": [],
   "source": []
  }
 ],
 "metadata": {
  "kernelspec": {
   "display_name": "Python 3 (ipykernel)",
   "language": "python",
   "name": "python3"
  },
  "language_info": {
   "codemirror_mode": {
    "name": "ipython",
    "version": 3
   },
   "file_extension": ".py",
   "mimetype": "text/x-python",
   "name": "python",
   "nbconvert_exporter": "python",
   "pygments_lexer": "ipython3",
   "version": "3.12.3"
  }
 },
 "nbformat": 4,
 "nbformat_minor": 5
}
