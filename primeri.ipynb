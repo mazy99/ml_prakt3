{
 "cells": [
  {
   "cell_type": "markdown",
   "id": "1a515ff3-8d9f-4fe3-8065-5ce92f027d02",
   "metadata": {},
   "source": [
    "# Создание Series  массива Python"
   ]
  },
  {
   "cell_type": "code",
   "execution_count": 1,
   "id": "24911b05-befe-47f8-b483-aeaafafa2825",
   "metadata": {},
   "outputs": [
    {
     "name": "stdout",
     "output_type": "stream",
     "text": [
      "0    1\n",
      "1    2\n",
      "2    3\n",
      "3    4\n",
      "4    5\n",
      "dtype: int64\n"
     ]
    }
   ],
   "source": [
    "import pandas as pd\n",
    "import numpy as np\n",
    "s1 = pd.Series([1, 2, 3, 4, 5])\n",
    "print(s1)"
   ]
  },
  {
   "cell_type": "markdown",
   "id": "c6186748-dcae-4c67-869a-6f223b65d255",
   "metadata": {},
   "source": [
    "# Создание Series  ndarray массива  из NumPy"
   ]
  },
  {
   "cell_type": "code",
   "execution_count": 4,
   "id": "6979a485-5186-47df-b946-da7ce38820df",
   "metadata": {},
   "outputs": [
    {
     "name": "stdout",
     "output_type": "stream",
     "text": [
      "a    1\n",
      "b    2\n",
      "c    3\n",
      "d    4\n",
      "e    5\n",
      "dtype: int32\n"
     ]
    }
   ],
   "source": [
    "ndarr = np.array([1, 2, 3, 4, 5])\n",
    "type(ndarr)\n",
    "s3 = pd.Series(ndarr, ['a', 'b', 'c', 'd', 'e'])\n",
    "print(s3)"
   ]
  },
  {
   "cell_type": "markdown",
   "id": "d08d829e-7321-450c-8757-f71b5f17b174",
   "metadata": {},
   "source": [
    "# Создание Series с использованием консанты"
   ]
  },
  {
   "cell_type": "code",
   "execution_count": 5,
   "id": "36792450-56fe-427b-bd67-383267ee0159",
   "metadata": {},
   "outputs": [
    {
     "name": "stdout",
     "output_type": "stream",
     "text": [
      "a    7\n",
      "b    7\n",
      "c    7\n",
      "dtype: int64\n"
     ]
    }
   ],
   "source": [
    "a = 7\n",
    "s5 = pd.Series(a, ['a', 'b', 'c'])\n",
    "print(s5)"
   ]
  },
  {
   "cell_type": "markdown",
   "id": "5e891e17-7a02-41fa-8056-8dc505260fce",
   "metadata": {},
   "source": [
    "# Работа с эементами Series"
   ]
  },
  {
   "cell_type": "code",
   "execution_count": 13,
   "id": "e5392b78-b430-4c53-a1c9-36cb4aaa2cd7",
   "metadata": {},
   "outputs": [
    {
     "name": "stdout",
     "output_type": "stream",
     "text": [
      "3\n",
      "4\n",
      "a    1\n",
      "b    2\n",
      "dtype: int64\n"
     ]
    }
   ],
   "source": [
    "s6 = pd.Series([1, 2, 3, 4, 5], ['a', 'b', 'c', 'd', 'e'])\n",
    "print(s6.iloc[2])\n",
    "print(s6.loc['d'])\n",
    "print(s6.iloc[:2])"
   ]
  },
  {
   "cell_type": "markdown",
   "id": "f65f3aaf-da85-44f0-9e6e-d91badcc4cde",
   "metadata": {},
   "source": [
    "# Использование логической индексации для фильтрации данных в Series"
   ]
  },
  {
   "cell_type": "code",
   "execution_count": 15,
   "id": "f55ab5f0-d088-4faf-8a05-978436c1e08a",
   "metadata": {},
   "outputs": [
    {
     "name": "stdout",
     "output_type": "stream",
     "text": [
      "b    25\n",
      "d    30\n",
      "e    15\n",
      "dtype: int64\n",
      "a    False\n",
      "b     True\n",
      "c    False\n",
      "d     True\n",
      "e     True\n",
      "dtype: bool\n"
     ]
    }
   ],
   "source": [
    "\n",
    "# Создаём Series с числовыми значениями\n",
    "s = pd.Series([10, 25, 8, 30, 15], index=['a', 'b', 'c', 'd', 'e'])\n",
    "# Фильтруем значения больше 10\n",
    "filtered_s = s[s > 10]\n",
    "print(filtered_s)"
   ]
  },
  {
   "cell_type": "code",
   "execution_count": 16,
   "id": "2baf24e3-d06a-41eb-ba46-138d90a23e4e",
   "metadata": {},
   "outputs": [
    {
     "name": "stdout",
     "output_type": "stream",
     "text": [
      "a    False\n",
      "b     True\n",
      "c    False\n",
      "d     True\n",
      "e     True\n",
      "dtype: bool\n"
     ]
    }
   ],
   "source": [
    "print(s > 10)"
   ]
  },
  {
   "cell_type": "code",
   "execution_count": 17,
   "id": "f4fb6a0e-be9c-4201-a800-dd3362eb355b",
   "metadata": {},
   "outputs": [
    {
     "name": "stdout",
     "output_type": "stream",
     "text": [
      "a    10\n",
      "b    25\n",
      "d    30\n",
      "e    15\n",
      "dtype: int64\n"
     ]
    }
   ],
   "source": [
    "filtered_s = s[(s >= 10) & (s <= 30)]\n",
    "print(filtered_s)"
   ]
  },
  {
   "cell_type": "code",
   "execution_count": 18,
   "id": "af2b4dd5-a605-4261-a0e9-d900219b9fa8",
   "metadata": {},
   "outputs": [
    {
     "name": "stdout",
     "output_type": "stream",
     "text": [
      "b    25\n",
      "d    30\n",
      "dtype: int64\n"
     ]
    }
   ],
   "source": [
    "filtered_s = s[s.index.isin(['b', 'd'])]\n",
    "print(filtered_s)"
   ]
  },
  {
   "cell_type": "code",
   "execution_count": 19,
   "id": "4c88b8de-c242-4f9d-8739-72cbd6b2a599",
   "metadata": {},
   "outputs": [
    {
     "name": "stdout",
     "output_type": "stream",
     "text": [
      "a    10.0\n",
      "c     8.0\n",
      "d    30.0\n",
      "dtype: float64\n"
     ]
    }
   ],
   "source": [
    "s_with_nan = pd.Series([10, None, 8, 30, None], index=['a', 'b', 'c',\n",
    "'d', 'e'])\n",
    "# Фильтрация только непустых значений\n",
    "filtered_s = s_with_nan[s_with_nan.notnull()]\n",
    "print(filtered_s)"
   ]
  },
  {
   "cell_type": "markdown",
   "id": "ec909a27-ffe7-4db0-8488-1d69db2dd3bd",
   "metadata": {},
   "source": [
    "# Изменение значений элементов в Series"
   ]
  },
  {
   "cell_type": "code",
   "execution_count": 20,
   "id": "f6269719-bc19-43b0-b12f-32d2dc2f81ae",
   "metadata": {},
   "outputs": [
    {
     "name": "stdout",
     "output_type": "stream",
     "text": [
      "a    10\n",
      "b    25\n",
      "c    30\n",
      "d    40\n",
      "dtype: int64\n"
     ]
    }
   ],
   "source": [
    "\n",
    "# Создаём Series\n",
    "s = pd.Series([10, 20, 30, 40], index=['a', 'b', 'c', 'd'])\n",
    "# Изменяем значение элемента с индексом 'b'\n",
    "s.loc['b'] = 25\n",
    "print(s)"
   ]
  },
  {
   "cell_type": "code",
   "execution_count": 21,
   "id": "c36de1b9-11cf-436d-b69a-bb4277f840ad",
   "metadata": {},
   "outputs": [
    {
     "name": "stdout",
     "output_type": "stream",
     "text": [
      "a    10\n",
      "b    50\n",
      "c    30\n",
      "d    40\n",
      "dtype: int64\n"
     ]
    }
   ],
   "source": [
    "s.iloc[1] = 50\n",
    "print(s)"
   ]
  },
  {
   "cell_type": "code",
   "execution_count": 22,
   "id": "e67f1fdb-25b5-47f3-ba33-35c0f43e2eda",
   "metadata": {},
   "outputs": [
    {
     "name": "stdout",
     "output_type": "stream",
     "text": [
      "a    10\n",
      "b    60\n",
      "c    30\n",
      "d    50\n",
      "dtype: int64\n"
     ]
    }
   ],
   "source": [
    "s[s > 30] += 10\n",
    "print(s)"
   ]
  },
  {
   "cell_type": "code",
   "execution_count": 23,
   "id": "62a757e9-9a11-47f9-ac5d-f7779039c116",
   "metadata": {},
   "outputs": [
    {
     "name": "stdout",
     "output_type": "stream",
     "text": [
      "a    100\n",
      "b     60\n",
      "c    200\n",
      "d     50\n",
      "dtype: int64\n"
     ]
    }
   ],
   "source": [
    "s.loc[['a', 'c']] = [100, 200]\n",
    "print(s)"
   ]
  },
  {
   "cell_type": "code",
   "execution_count": 24,
   "id": "5c814b35-397c-4fc9-bc68-77e92f2a1930",
   "metadata": {},
   "outputs": [
    {
     "name": "stdout",
     "output_type": "stream",
     "text": [
      "a    200\n",
      "b    120\n",
      "c    400\n",
      "d    100\n",
      "dtype: int64\n"
     ]
    }
   ],
   "source": [
    "s = s.apply(lambda x: x * 2)\n",
    "print(s)"
   ]
  },
  {
   "cell_type": "code",
   "execution_count": 25,
   "id": "359ca9a1-c51d-44f4-b020-1df0212319be",
   "metadata": {},
   "outputs": [
    {
     "name": "stdout",
     "output_type": "stream",
     "text": [
      "a    10.0\n",
      "b     0.0\n",
      "c    30.0\n",
      "d     0.0\n",
      "dtype: float64\n"
     ]
    }
   ],
   "source": [
    "s_with_nan = pd.Series([10, None, 30, None], index=['a', 'b', 'c',\n",
    "'d'])\n",
    "# Заполняем пропущенные значения числом 0\n",
    "s_filled = s_with_nan.fillna(0)\n",
    "print(s_filled)"
   ]
  },
  {
   "cell_type": "markdown",
   "id": "2590cd4a-fe34-4679-814b-74b5b3a9e58b",
   "metadata": {},
   "source": [
    "# Основоные методы работы с Series"
   ]
  },
  {
   "cell_type": "code",
   "execution_count": 26,
   "id": "a8e74eb4-4293-4227-b897-587553d20b71",
   "metadata": {},
   "outputs": [
    {
     "name": "stdout",
     "output_type": "stream",
     "text": [
      "a    10\n",
      "b    20\n",
      "c    30\n",
      "dtype: int64\n"
     ]
    }
   ],
   "source": [
    "\n",
    "# Создаём Series\n",
    "s = pd.Series([10, 20, 30, 40, 50, 60, 70], index=['a', 'b', 'c', 'd',\n",
    "'e', 'f', 'g'])\n",
    "# Вывод первых 3 элементов\n",
    "print(s.head(3))"
   ]
  },
  {
   "cell_type": "code",
   "execution_count": 27,
   "id": "05d8a330-ebc2-47c5-8bb8-39d3c993db03",
   "metadata": {},
   "outputs": [
    {
     "name": "stdout",
     "output_type": "stream",
     "text": [
      "a    10\n",
      "b    20\n",
      "c    30\n",
      "d    40\n",
      "e    50\n",
      "dtype: int64\n"
     ]
    }
   ],
   "source": [
    "print(s.head())"
   ]
  },
  {
   "cell_type": "code",
   "execution_count": 28,
   "id": "0132408d-eb67-49ea-af42-c70476194fac",
   "metadata": {},
   "outputs": [
    {
     "name": "stdout",
     "output_type": "stream",
     "text": [
      "e    50\n",
      "f    60\n",
      "g    70\n",
      "dtype: int64\n"
     ]
    }
   ],
   "source": [
    "print(s.tail(3))"
   ]
  },
  {
   "cell_type": "code",
   "execution_count": 29,
   "id": "b657ce3a-7487-4bf2-8cad-96a482cdd5db",
   "metadata": {},
   "outputs": [
    {
     "name": "stdout",
     "output_type": "stream",
     "text": [
      "c    30\n",
      "d    40\n",
      "e    50\n",
      "f    60\n",
      "g    70\n",
      "dtype: int64\n"
     ]
    }
   ],
   "source": [
    "print(s.tail())"
   ]
  },
  {
   "cell_type": "code",
   "execution_count": 30,
   "id": "f7aeeda5-ed46-4505-b063-bac46c59d13b",
   "metadata": {},
   "outputs": [
    {
     "name": "stdout",
     "output_type": "stream",
     "text": [
      "Index(['a', 'b', 'c', 'd', 'e'], dtype='object')\n"
     ]
    }
   ],
   "source": [
    "# Создаём Series с пользовательскими индексами\n",
    "s = pd.Series([10, 20, 30, 40, 50], index=['a', 'b', 'c', 'd', 'e'])\n",
    "# Получение индексов\n",
    "print(s.index)"
   ]
  },
  {
   "cell_type": "code",
   "execution_count": 31,
   "id": "663578bc-ca26-47d3-a793-58a32bf389c6",
   "metadata": {},
   "outputs": [
    {
     "name": "stdout",
     "output_type": "stream",
     "text": [
      "a\n",
      "e\n"
     ]
    }
   ],
   "source": [
    "print(s.index[0]) # Выведет 'a'\n",
    "print(s.index[-1]) # Выведет 'e'"
   ]
  },
  {
   "cell_type": "code",
   "execution_count": 32,
   "id": "35b46b1c-a0ec-4508-af48-6076c9da2ee8",
   "metadata": {},
   "outputs": [
    {
     "name": "stdout",
     "output_type": "stream",
     "text": [
      "True\n",
      "False\n"
     ]
    }
   ],
   "source": [
    "print('b' in s.index) # True\n",
    "print('z' in s.index) # False"
   ]
  },
  {
   "cell_type": "code",
   "execution_count": 33,
   "id": "a12df461-bcc7-447b-bd21-f47329892c69",
   "metadata": {},
   "outputs": [
    {
     "name": "stdout",
     "output_type": "stream",
     "text": [
      "[10 20 30 40 50]\n"
     ]
    }
   ],
   "source": [
    "print(s.values)"
   ]
  },
  {
   "cell_type": "code",
   "execution_count": 34,
   "id": "bec008bf-c25f-4b1e-9b7d-97b794922387",
   "metadata": {},
   "outputs": [
    {
     "name": "stdout",
     "output_type": "stream",
     "text": [
      "float64\n",
      "object\n",
      "bool\n"
     ]
    }
   ],
   "source": [
    "s1 = pd.Series([1.5, 2.3, 3.7]) # Числа с плавающей запятой\n",
    "s2 = pd.Series([\"apple\", \"banana\", \"cherry\"]) # Строки\n",
    "s3 = pd.Series([True, False, True]) # Булевы значения\n",
    "print(s1.dtype) # float64\n",
    "print(s2.dtype) # object (строки)\n",
    "print(s3.dtype) # bool"
   ]
  },
  {
   "cell_type": "code",
   "execution_count": 35,
   "id": "8abc3ae7-67b1-4e3d-a7b8-c7090ef2cb07",
   "metadata": {},
   "outputs": [
    {
     "name": "stdout",
     "output_type": "stream",
     "text": [
      "0    False\n",
      "1     True\n",
      "2    False\n",
      "3     True\n",
      "4    False\n",
      "dtype: bool\n"
     ]
    }
   ],
   "source": [
    "# Создаём Series с пропущенными значениями\n",
    "s = pd.Series([10, np.nan, 30, None, 50])\n",
    "# Проверяем наличие пропущенных значений\n",
    "print(s.isnull())"
   ]
  },
  {
   "cell_type": "markdown",
   "id": "24a071c8-47ff-4942-b541-ec7eec034065",
   "metadata": {},
   "source": [
    "# .fillna(value) , .dropna() – работа с пропущенными значениями  pandas.Series"
   ]
  },
  {
   "cell_type": "code",
   "execution_count": 37,
   "id": "a534ba5b-7674-47be-bdd6-d43133b713c6",
   "metadata": {},
   "outputs": [
    {
     "name": "stdout",
     "output_type": "stream",
     "text": [
      "0    10.0\n",
      "1     0.0\n",
      "2    30.0\n",
      "3     0.0\n",
      "4    50.0\n",
      "dtype: float64\n"
     ]
    }
   ],
   "source": [
    "# Создаём Series с пропущенными значениями\n",
    "s = pd.Series([10, np.nan, 30, None, 50])\n",
    "# Заполняем пропущенные значения нулём\n",
    "s_filled = s.fillna(0)\n",
    "print(s_filled)"
   ]
  },
  {
   "cell_type": "code",
   "execution_count": 38,
   "id": "e66d4d4c-706b-4ba1-b724-0cf114be71c3",
   "metadata": {},
   "outputs": [
    {
     "name": "stdout",
     "output_type": "stream",
     "text": [
      "0    10.0\n",
      "1    30.0\n",
      "2    30.0\n",
      "3    30.0\n",
      "4    50.0\n",
      "dtype: float64\n"
     ]
    }
   ],
   "source": [
    "s_filled = s.fillna(s.mean())\n",
    "print(s_filled)"
   ]
  },
  {
   "cell_type": "code",
   "execution_count": 39,
   "id": "43d5ed35-be24-43d4-bc76-0723bd870471",
   "metadata": {},
   "outputs": [
    {
     "name": "stdout",
     "output_type": "stream",
     "text": [
      "0    10.0\n",
      "2    30.0\n",
      "4    50.0\n",
      "dtype: float64\n"
     ]
    }
   ],
   "source": [
    "s_cleaned = s.dropna()\n",
    "print(s_cleaned)"
   ]
  },
  {
   "cell_type": "markdown",
   "id": "ea62488b-48dd-47a5-aff7-d12d8b8ddd7a",
   "metadata": {},
   "source": [
    "# Арифметические операции между двумя Series"
   ]
  },
  {
   "cell_type": "code",
   "execution_count": 40,
   "id": "8f36353e-1adf-4da3-9f83-b3823831fc40",
   "metadata": {},
   "outputs": [
    {
     "name": "stdout",
     "output_type": "stream",
     "text": [
      "a    11\n",
      "b    22\n",
      "c    33\n",
      "d    44\n",
      "e    55\n",
      "dtype: int64\n"
     ]
    }
   ],
   "source": [
    "s1 = pd.Series([1, 2, 3, 4, 5], index=['a', 'b', 'c', 'd', 'e'])\n",
    "s2 = pd.Series([10, 20, 30, 40, 50], index=['a', 'b', 'c', 'd', 'e'])\n",
    "# Поэлементное сложение двух Series\n",
    "s_sum = s1 + s2\n",
    "print(s_sum)"
   ]
  },
  {
   "cell_type": "markdown",
   "id": "791bf115-3426-4a5c-a32c-f326a268d7ec",
   "metadata": {},
   "source": [
    "# Работа с несовпадающимм индексами"
   ]
  },
  {
   "cell_type": "code",
   "execution_count": 41,
   "id": "3f969275-3aef-4510-b2c4-da975b4c0814",
   "metadata": {},
   "outputs": [
    {
     "name": "stdout",
     "output_type": "stream",
     "text": [
      "a    101.0\n",
      "b    202.0\n",
      "c      NaN\n",
      "d      NaN\n",
      "e      NaN\n",
      "f      NaN\n",
      "dtype: float64\n"
     ]
    }
   ],
   "source": [
    "s3 = pd.Series([100, 200, 300], index=['a', 'b', 'f'])\n",
    "# Сложение Series с несовпадающими индексами\n",
    "s_result = s1 + s3\n",
    "print(s_result)"
   ]
  },
  {
   "cell_type": "markdown",
   "id": "4d0c3bb2-ddf5-40a2-aba3-a3df0b1d4b2f",
   "metadata": {},
   "source": [
    "# Использование методов .add() , .sub() , .mul() , .div()"
   ]
  },
  {
   "cell_type": "code",
   "execution_count": 42,
   "id": "a2dc3d55-4829-4ed9-89b4-0ffef2da6866",
   "metadata": {},
   "outputs": [
    {
     "name": "stdout",
     "output_type": "stream",
     "text": [
      "a    101.0\n",
      "b    202.0\n",
      "c      3.0\n",
      "d      4.0\n",
      "e      5.0\n",
      "f    300.0\n",
      "dtype: float64\n"
     ]
    }
   ],
   "source": [
    "s_result = s1.add(s3, fill_value=0)\n",
    "print(s_result)"
   ]
  },
  {
   "cell_type": "markdown",
   "id": "adb03014-d831-4135-a1d0-1df02d9fd5a2",
   "metadata": {},
   "source": [
    "# Проверка уникальности индексов Series"
   ]
  },
  {
   "cell_type": "code",
   "execution_count": 44,
   "id": "b669ff12-368f-4379-a69f-1cde46dfbfd7",
   "metadata": {},
   "outputs": [
    {
     "name": "stdout",
     "output_type": "stream",
     "text": [
      "True\n"
     ]
    }
   ],
   "source": [
    "s_unique = pd.Series([10, 20, 30], index=['a', 'b', 'c'])\n",
    "# Проверяем уникальность индексов\n",
    "print(s_unique.index.is_unique)"
   ]
  },
  {
   "cell_type": "code",
   "execution_count": 45,
   "id": "f3593e98-223e-464c-8039-4c2f1fa852a8",
   "metadata": {},
   "outputs": [
    {
     "name": "stdout",
     "output_type": "stream",
     "text": [
      "False\n"
     ]
    }
   ],
   "source": [
    "s_duplicate = pd.Series([10, 20, 30, 40], index=['a', 'b', 'a', 'c'])\n",
    "# Проверяем уникальность индексов\n",
    "print(s_duplicate.index.is_unique)"
   ]
  },
  {
   "cell_type": "markdown",
   "id": "b6801dca-21ca-4769-9dfb-9420abd4f92f",
   "metadata": {},
   "source": [
    " # Применение Series для представления временных рядов"
   ]
  },
  {
   "cell_type": "code",
   "execution_count": 46,
   "id": "7c429e52-19a8-4063-a3d9-2d9c46d04f9d",
   "metadata": {},
   "outputs": [
    {
     "name": "stdout",
     "output_type": "stream",
     "text": [
      "2024-03-01    100\n",
      "2024-03-02    105\n",
      "2024-03-03    102\n",
      "2024-03-04     98\n",
      "2024-03-05    110\n",
      "Freq: D, dtype: int64\n"
     ]
    }
   ],
   "source": [
    "dates = pd.date_range(start='2024-03-01', periods=5, freq='D')\n",
    "# Создаём Series с временными метками в качестве индекса\n",
    "s = pd.Series([100, 105, 102, 98, 110], index=dates)\n",
    "print(s)"
   ]
  },
  {
   "cell_type": "code",
   "execution_count": 47,
   "id": "4ef33928-a169-4b92-83d4-7a12a76b3f58",
   "metadata": {},
   "outputs": [
    {
     "name": "stdout",
     "output_type": "stream",
     "text": [
      "102\n"
     ]
    }
   ],
   "source": [
    "print(s['2024-03-03'])"
   ]
  },
  {
   "cell_type": "code",
   "execution_count": 48,
   "id": "003af227-d389-47f9-85a4-ec8a97f00ae5",
   "metadata": {},
   "outputs": [
    {
     "name": "stdout",
     "output_type": "stream",
     "text": [
      "2024-03-02    105\n",
      "2024-03-03    102\n",
      "2024-03-04     98\n",
      "Freq: D, dtype: int64\n"
     ]
    }
   ],
   "source": [
    "print(s['2024-03-02':'2024-03-04'])"
   ]
  },
  {
   "cell_type": "markdown",
   "id": "099e1da8-d392-4947-b589-83e9f0d02e9d",
   "metadata": {},
   "source": [
    "# Создание временного ряда с разной частотой"
   ]
  },
  {
   "cell_type": "code",
   "execution_count": 50,
   "id": "1573ff32-78a0-48d0-8c7c-4edc99718752",
   "metadata": {},
   "outputs": [
    {
     "name": "stdout",
     "output_type": "stream",
     "text": [
      "2024-03-01 00:00:00    10\n",
      "2024-03-01 01:00:00    15\n",
      "2024-03-01 02:00:00    12\n",
      "2024-03-01 03:00:00     8\n",
      "2024-03-01 04:00:00    20\n",
      "Freq: h, dtype: int64\n"
     ]
    }
   ],
   "source": [
    "dates = pd.date_range(start='2024-03-01', periods=5, freq='h')\n",
    "s = pd.Series([10, 15, 12, 8, 20], index=dates)\n",
    "print(s)"
   ]
  },
  {
   "cell_type": "markdown",
   "id": "26b4e02d-cfc2-4c44-aee6-bb2b75a7f757",
   "metadata": {},
   "source": [
    "# Расчёт скользящего среднего"
   ]
  },
  {
   "cell_type": "code",
   "execution_count": 52,
   "id": "0cab6530-09c9-47cd-82f7-80bf85d2f26c",
   "metadata": {},
   "outputs": [
    {
     "name": "stdout",
     "output_type": "stream",
     "text": [
      "2024-03-01     NaN\n",
      "2024-03-02     NaN\n",
      "2024-03-03    20.0\n",
      "2024-03-04    30.0\n",
      "2024-03-05    40.0\n",
      "2024-03-06    50.0\n",
      "2024-03-07    60.0\n",
      "Freq: D, dtype: float64\n"
     ]
    }
   ],
   "source": [
    "s = pd.Series([10, 20, 30, 40, 50, 60, 70], index=pd.date_range(\"2024-03-01\", periods=7, freq=\"D\"))\n",
    "# Вычисляем скользящее среднее с окном 3\n",
    "s_ma = s.rolling(window=3).mean()\n",
    "print(s_ma)"
   ]
  },
  {
   "cell_type": "code",
   "execution_count": 53,
   "id": "29d5d31d-8cc3-481d-b049-7059fa0a8fa3",
   "metadata": {},
   "outputs": [
    {
     "name": "stdout",
     "output_type": "stream",
     "text": [
      "2024-03-01     NaN\n",
      "2024-03-02     NaN\n",
      "2024-03-03     NaN\n",
      "2024-03-04     NaN\n",
      "2024-03-05    30.0\n",
      "2024-03-06    40.0\n",
      "2024-03-07    50.0\n",
      "Freq: D, dtype: float64\n"
     ]
    }
   ],
   "source": [
    "s_ma5 = s.rolling(window=5).mean()\n",
    "print(s_ma5)"
   ]
  },
  {
   "cell_type": "code",
   "execution_count": 54,
   "id": "acd1e88c-5826-4241-9dc7-622ca608903a",
   "metadata": {},
   "outputs": [
    {
     "name": "stdout",
     "output_type": "stream",
     "text": [
      "2024-03-01    10.0\n",
      "2024-03-02    15.0\n",
      "2024-03-03    20.0\n",
      "2024-03-04    30.0\n",
      "2024-03-05    40.0\n",
      "2024-03-06    50.0\n",
      "2024-03-07    60.0\n",
      "Freq: D, dtype: float64\n"
     ]
    }
   ],
   "source": [
    "s_ma2 = s.rolling(window=3, min_periods=1).mean()\n",
    "print(s_ma2)"
   ]
  },
  {
   "cell_type": "code",
   "execution_count": 55,
   "id": "d7f390a3-6423-4ba7-abf0-518b74a4f76f",
   "metadata": {},
   "outputs": [
    {
     "data": {
      "image/png": "[encoded data removed]",
      "text/plain": [
       "<Figure size 800x400 with 1 Axes>"
      ]
     },
     "metadata": {},
     "output_type": "display_data"
    }
   ],
   "source": [
    "import matplotlib.pyplot as plt\n",
    "# Построим график\n",
    "plt.figure(figsize=(8, 4))\n",
    "plt.plot(s, label=\"Исходные данные\", marker=\"o\")\n",
    "plt.plot(s.rolling(window=3).mean(), label=\"Скользящее среднее (3)\",\n",
    "linestyle=\"--\", color=\"red\")\n",
    "plt.xlabel(\"Дата\")\n",
    "plt.ylabel(\"Значение\")\n",
    "plt.title(\"Скользящее среднее в Series\")\n",
    "plt.legend()\n",
    "plt.grid()\n",
    "plt.show()"
   ]
  },
  {
   "cell_type": "markdown",
   "id": "dcc5c66c-ab9c-4f91-8f1d-9f721446ec89",
   "metadata": {},
   "source": [
    "# Процентный прирост"
   ]
  },
  {
   "cell_type": "code",
   "execution_count": 56,
   "id": "f41adf0f-7e60-4b35-80ad-1165feeeb386",
   "metadata": {},
   "outputs": [
    {
     "name": "stdout",
     "output_type": "stream",
     "text": [
      "0         NaN\n",
      "1    0.100000\n",
      "2    0.090909\n",
      "3   -0.250000\n",
      "4    0.666667\n",
      "dtype: float64\n"
     ]
    }
   ],
   "source": [
    "s = pd.Series([100, 110, 120, 90, 150])\n",
    "# Вычисляем процентное изменение\n",
    "print(s.pct_change())"
   ]
  },
  {
   "cell_type": "code",
   "execution_count": 57,
   "id": "0d8fd94d-96ea-4de2-bcd5-c3ce4bcb37e1",
   "metadata": {},
   "outputs": [
    {
     "name": "stdout",
     "output_type": "stream",
     "text": [
      "0          NaN\n",
      "1    10.000000\n",
      "2     9.090909\n",
      "3   -25.000000\n",
      "4    66.666667\n",
      "dtype: float64\n"
     ]
    }
   ],
   "source": [
    "print(s.pct_change() * 100)"
   ]
  },
  {
   "cell_type": "code",
   "execution_count": 58,
   "id": "0a1a64ab-9f30-4db2-9603-577542970c4e",
   "metadata": {},
   "outputs": [
    {
     "name": "stdout",
     "output_type": "stream",
     "text": [
      "0         NaN\n",
      "1         NaN\n",
      "2    0.200000\n",
      "3   -0.181818\n",
      "4    0.250000\n",
      "dtype: float64\n"
     ]
    }
   ],
   "source": [
    "print(s.pct_change(periods=2))"
   ]
  },
  {
   "cell_type": "code",
   "execution_count": 60,
   "id": "9ffbbda7-360b-4c0c-be2a-e131437c8854",
   "metadata": {},
   "outputs": [
    {
     "data": {
      "image/png": "[encoded data removed]",
      "text/plain": [
       "<Figure size 1000x500 with 1 Axes>"
      ]
     },
     "metadata": {},
     "output_type": "display_data"
    },
    {
     "data": {
      "image/png": "[encoded data removed]",
      "text/plain": [
       "<Figure size 1000x500 with 1 Axes>"
      ]
     },
     "metadata": {},
     "output_type": "display_data"
    }
   ],
   "source": [
    "# Генерируем данные о цене акции\n",
    "dates = pd.date_range(start=\"2024-01-01\", periods=30, freq=\"D\")\n",
    "prices = pd.Series(np.random.randint(90, 110, size=30), index=dates)\n",
    "# Вычисляем процентный прирост\n",
    "returns = prices.pct_change() * 100\n",
    "# Построим график\n",
    "plt.figure(figsize=(10, 5))\n",
    "plt.plot(prices, label=\"Цена акции\", marker=\"o\")\n",
    "plt.ylabel(\"Цена\")\n",
    "plt.xlabel(\"Дата\")\n",
    "plt.title(\"График цены акции\")\n",
    "plt.figure(figsize=(10, 5))\n",
    "plt.bar(returns.index, returns, color=\"red\", alpha=0.7,\n",
    "label=\"Процентное изменение\")\n",
    "plt.axhline(0, color=\"black\", linestyle=\"--\")\n",
    "plt.ylabel(\"Изменение (%)\")\n",
    "plt.xlabel(\"Дата\")\n",
    "plt.title(\"Процентное изменение цены акции\")\n",
    "plt.legend()\n",
    "plt.show()"
   ]
  },
  {
   "cell_type": "markdown",
   "id": "0834d2da-668f-4aff-aed8-c0636655b20f",
   "metadata": {},
   "source": [
    "# Загрзука данных  из CSV-файла"
   ]
  },
  {
   "cell_type": "code",
   "execution_count": 61,
   "id": "70660dcc-b4c7-4938-831f-d16d522f0ed9",
   "metadata": {},
   "outputs": [
    {
     "name": "stdout",
     "output_type": "stream",
     "text": [
      "0    100\n",
      "1    110\n",
      "2    105\n",
      "3    120\n",
      "4    115\n",
      "Name: Цена, dtype: int64\n"
     ]
    }
   ],
   "source": [
    "# Читаем CSV-файл\n",
    "df = pd.read_csv(\"data.csv\")\n",
    "# Создаём Series на основе столбца \"Цена\"\n",
    "s = df[\"Цена\"]\n",
    "print(s)"
   ]
  },
  {
   "cell_type": "code",
   "execution_count": 64,
   "id": "252bc862-e764-40c6-908b-10168f8411d8",
   "metadata": {},
   "outputs": [
    {
     "name": "stdout",
     "output_type": "stream",
     "text": [
      "Дата\n",
      "2024-03-01    100\n",
      "2024-03-02    110\n",
      "2024-03-03    105\n",
      "2024-03-04    120\n",
      "2024-03-05    115\n",
      "Name: Цена, dtype: int64\n"
     ]
    }
   ],
   "source": [
    "s = pd.read_csv(\"data.csv\", index_col=\"Дата\")[\"Цена\"]\n",
    "print(s)\n"
   ]
  },
  {
   "cell_type": "code",
   "execution_count": null,
   "id": "7c575b37-1625-4dac-86c2-c53807371b1e",
   "metadata": {},
   "outputs": [],
   "source": []
  }
 ],
 "metadata": {
  "kernelspec": {
   "display_name": "Python 3 (ipykernel)",
   "language": "python",
   "name": "python3"
  },
  "language_info": {
   "codemirror_mode": {
    "name": "ipython",
    "version": 3
   },
   "file_extension": ".py",
   "mimetype": "text/x-python",
   "name": "python",
   "nbconvert_exporter": "python",
   "pygments_lexer": "ipython3",
   "version": "3.12.3"
  }
 },
 "nbformat": 4,
 "nbformat_minor": 5
}
